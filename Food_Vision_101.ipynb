{
  "nbformat": 4,
  "nbformat_minor": 0,
  "metadata": {
    "colab": {
      "name": "Food Vision 101.ipynb",
      "provenance": [],
      "authorship_tag": "ABX9TyMW4I3nXfun2QGeHgbpSrOI",
      "include_colab_link": true
    },
    "kernelspec": {
      "name": "python3",
      "display_name": "Python 3"
    },
    "language_info": {
      "name": "python"
    }
  },
  "cells": [
    {
      "cell_type": "markdown",
      "metadata": {
        "id": "view-in-github",
        "colab_type": "text"
      },
      "source": [
        "<a href=\"https://colab.research.google.com/github/Arka1212/Food-Vision-101/blob/main/Food_Vision_101.ipynb\" target=\"_parent\"><img src=\"https://colab.research.google.com/assets/colab-badge.svg\" alt=\"Open In Colab\"/></a>"
      ]
    },
    {
      "cell_type": "markdown",
      "source": [
        "# **Food Vision Big (101 classes of food)**\n",
        "\n",
        "In this project, the motto is to use the mixed precidion training technique in order to increase computation speed. However, to do so GPU is needed though not all GPU are compatible for performing mixed precision. Knowing this, in order to use 'mixed precision training', we need access to a GPU which has a score of 7.0+.\n",
        "\n",
        "(**Mixed precision** is the use of both 16-bit and 32-bit floating-point types in a model during training to make it run faster and use less memory. By keeping certain parts of the model in the 32-bit types for numeric stability, the model will have a lower step time and train equally as well in terms of the evaluation metrics such as accuracy)\n",
        "\n",
        "Google colab offers the following GPUs:\n",
        "1. K80 (Not compatible)\n",
        "2. P100 (Not compatible)\n",
        "3. Tesla T4 (Compatible)\n",
        "\n",
        "So, in this case we need to have access to 'Tesla T4' GPU to carry out mixed precision training."
      ],
      "metadata": {
        "id": "CBZXQg-Gu_Gk"
      }
    },
    {
      "cell_type": "code",
      "source": [
        ""
      ],
      "metadata": {
        "id": "5BfGvAHbvL9-"
      },
      "execution_count": null,
      "outputs": []
    }
  ]
}