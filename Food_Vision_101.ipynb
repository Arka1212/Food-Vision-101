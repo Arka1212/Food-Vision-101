{
  "nbformat": 4,
  "nbformat_minor": 0,
  "metadata": {
    "colab": {
      "name": "Food Vision 101.ipynb",
      "provenance": [],
      "authorship_tag": "ABX9TyMJsrm1GjfcvMMH1tHYF6Kx",
      "include_colab_link": true
    },
    "kernelspec": {
      "name": "python3",
      "display_name": "Python 3"
    },
    "language_info": {
      "name": "python"
    }
  },
  "cells": [
    {
      "cell_type": "markdown",
      "metadata": {
        "id": "view-in-github",
        "colab_type": "text"
      },
      "source": [
        "<a href=\"https://colab.research.google.com/github/Arka1212/Food-Vision-101/blob/main/Food_Vision_101.ipynb\" target=\"_parent\"><img src=\"https://colab.research.google.com/assets/colab-badge.svg\" alt=\"Open In Colab\"/></a>"
      ]
    },
    {
      "cell_type": "markdown",
      "source": [
        "# **Food Vision Big (101 classes of food)**\n",
        "\n",
        "In this project, the motto is to use the mixed precision training technique in order to increase computation speed. However, to do so GPU is needed though not all GPU are compatible for performing mixed precision. Knowing this, in order to use 'mixed precision training', we need access to a GPU which has a score of 7.0+.\n",
        "\n",
        "(**Mixed precision** is the use of both 16-bit and 32-bit floating-point types in a model during training to make it run faster and use less memory. By keeping certain parts of the model in the 32-bit types for numeric stability, the model will have a lower step time and train equally as well in terms of the evaluation metrics such as accuracy)\n",
        "\n",
        "Google colab offers the following GPUs:\n",
        "1. K80 (Not compatible)\n",
        "2. P100 (Not compatible)\n",
        "3. Tesla T4 (Compatible)\n",
        "\n",
        "So, in this case we need to have access to 'Tesla T4' GPU to carry out mixed precision training faster or else this kind of training will take much more time to compute."
      ],
      "metadata": {
        "id": "CBZXQg-Gu_Gk"
      }
    },
    {
      "cell_type": "code",
      "source": [
        "# Importing necessary libraries.\n",
        "import numpy as np\n",
        "import pandas as pd\n",
        "import matplotlib.pyplot as plt\n",
        "%matplotlib inline\n",
        "import seaborn as sns\n",
        "import tensorflow as tf\n",
        "print(f'TensorFlow version ---> {tf.__version__}')"
      ],
      "metadata": {
        "id": "5BfGvAHbvL9-",
        "colab": {
          "base_uri": "https://localhost:8080/"
        },
        "outputId": "402a23d3-a193-4c0f-e184-2f70a4c6ca58"
      },
      "execution_count": 2,
      "outputs": [
        {
          "output_type": "stream",
          "name": "stdout",
          "text": [
            "TensorFlow version ---> 2.8.2\n"
          ]
        }
      ]
    },
    {
      "cell_type": "markdown",
      "source": [
        "◾ Basic libraries are imported in order to get started. Rest of the libraries will be imported later on as and when required."
      ],
      "metadata": {
        "id": "koAZ2IO0CMFL"
      }
    }
  ]
}